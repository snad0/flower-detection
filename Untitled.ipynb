{
 "cells": [
  {
   "cell_type": "code",
   "execution_count": 3,
   "id": "5901f914",
   "metadata": {},
   "outputs": [],
   "source": [
    "import os\n",
    "TRAIN_PATH = os.path.join('training')\n",
    "\n",
    "ARCHIVE_PATH = os.path.join('training', 'archive.tar.gz')\n",
    "!tar -czf {ARCHIVE_PATH} {TRAIN_PATH}"
   ]
  },
  {
   "cell_type": "code",
   "execution_count": null,
   "id": "f29366f7",
   "metadata": {},
   "outputs": [],
   "source": []
  }
 ],
 "metadata": {
  "kernelspec": {
   "display_name": "Python 3 (ipykernel)",
   "language": "python",
   "name": "python3"
  },
  "language_info": {
   "codemirror_mode": {
    "name": "ipython",
    "version": 3
   },
   "file_extension": ".py",
   "mimetype": "text/x-python",
   "name": "python",
   "nbconvert_exporter": "python",
   "pygments_lexer": "ipython3",
   "version": "3.10.1"
  }
 },
 "nbformat": 4,
 "nbformat_minor": 5
}
